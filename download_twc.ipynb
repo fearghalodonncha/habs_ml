{
 "cells": [
  {
   "attachments": {},
   "cell_type": "markdown",
   "metadata": {},
   "source": [
    "# TWC data requests\n",
    "\n",
    "We download data historical weather data from The Weather Company API. Specifically, historical data from the `History on Demand` package\n",
    "for user defined start - end dates. Documentation available [here](https://docs.google.com/document/d/12V8zpVRh15cgP0IiuQ6n875-I04_rl2J28uE0jQcblI/edit)"
   ]
  },
  {
   "cell_type": "markdown",
   "metadata": {},
   "source": [
    "# API key"
   ]
  },
  {
   "cell_type": "code",
   "execution_count": 14,
   "metadata": {},
   "outputs": [],
   "source": [
    "api_key = 'will_not_work_without_api_key'"
   ]
  },
  {
   "cell_type": "code",
   "execution_count": 23,
   "metadata": {},
   "outputs": [],
   "source": [
    "\n",
    "import pandas as pd\n",
    "import numpy as np\n",
    "\n",
    "from datetime import datetime as dt, timedelta\n",
    "from pathlib import Path"
   ]
  },
  {
   "cell_type": "code",
   "execution_count": 24,
   "metadata": {},
   "outputs": [],
   "source": [
    "def get_twc_history_on_demand(longitudes, latitudes, date_begin, date_end, api_key):\n",
    "    print(date_begin, date_end)\n",
    "    # Number of forecast hours to download for each point\n",
    "    twc_date_begin = date_begin.strftime(\"%Y%m%d%H%M\")\n",
    "    twc_date_end = date_end.strftime(\"%Y%m%d%H%M\")\n",
    "    # we need to convert the date_begin/end to correct string\n",
    "    pointType = 'weighted'\n",
    "    geocode = '{},{}'.format(latitudes, longitudes)\n",
    "\n",
    "    url_hod = 'https://api.weather.com/v3/wx/hod/reanalysis/historical/point?pointType={}&geocode={}' \\\n",
    "              '&distance=50&startDateTime={}&endDateTime={}&units=m&format=json&apiKey={}'.format(\n",
    "        pointType, geocode, twc_date_begin, twc_date_end, api_key)\n",
    "    print(url_hod)\n",
    "    r = requests.get(url_hod)\n",
    "    try:\n",
    "        weather = json.loads(r.text)\n",
    "        json.dumps(weather, indent=1)\n",
    "        df = pd.DataFrame.from_dict(weather)\n",
    "        df.set_index('observationTimeUtcIso', inplace=True)\n",
    "        df = df.drop_duplicates()  # some dates are duplicated\n",
    "        return df\n",
    "    except ValueError:  # includes simplejson.decoder.JSONDecodeError\n",
    "        print('Json decoding has failed for', twc_date_begin, twc_date_end)\n",
    "        return -999, -999"
   ]
  },
  {
   "cell_type": "code",
   "execution_count": 25,
   "metadata": {},
   "outputs": [],
   "source": [
    "def twc_historical_timeseries(start_date, end_date, longitude, latitude):\n",
    "    date_begin = start_date # since this change inside loop\n",
    "    year_string = date_begin.strftime(\"%Y\")\n",
    "    # Create WeatherData folder if doesn't exist\n",
    "    Path(\"./WeatherData\").mkdir(parents=True, exist_ok=True)\n",
    "    fname_out = 'WeatherData/TWC_historical_pandas_Full_lat' + str(latitude) \\\n",
    "              + '_lon' + str(longitude)+ \"_year\" + year_string + '.csv'\n",
    "    init = True # create or append to pandas data frame\n",
    "    # We simply iterate over the given date period in 30 day intervals and request data\n",
    "    # from API. We append to dataframe and end we write to file\n",
    "    while date_begin < end_date:\n",
    "        date_end = date_begin + timedelta(days=30)\n",
    "        if date_end > end_date:   # check that we don't beyond user specified\n",
    "            date_end = end_date\n",
    "        # request data from API for given lat, lon, and particular date period\n",
    "        df_return = getTWCfct_new(latitude, longitude, date_begin, date_end, api_key)\n",
    "        if init:\n",
    "            df_weather = df_return\n",
    "            init = False\n",
    "        else:\n",
    "            df_weather = df_weather.append(df_return, ignore_index=False)\n",
    "        date_begin = date_begin + timedelta(days=30)  # TWC allows to download historical\n",
    "    df_weather.to_csv(fname_out)"
   ]
  },
  {
   "cell_type": "code",
   "execution_count": 22,
   "metadata": {},
   "outputs": [
    {
     "name": "stdout",
     "output_type": "stream",
     "text": [
      "2021-01-01 00:00:00 2021-01-31 00:00:00\n",
      "https://api.weather.com/v3/wx/hod/reanalysis/historical/point?pointType=weighted&geocode=37.017,-8.883&distance=50&startDateTime=202101010000&endDateTime=202101310000&units=m&format=json&apiKey=8383ea3e9e8c4b9283ea3e9e8c9b9213\n",
      "2021-01-31 00:00:00 2021-03-01 00:00:00\n",
      "https://api.weather.com/v3/wx/hod/reanalysis/historical/point?pointType=weighted&geocode=37.017,-8.883&distance=50&startDateTime=202101310000&endDateTime=202103010000&units=m&format=json&apiKey=8383ea3e9e8c4b9283ea3e9e8c9b9213\n"
     ]
    }
   ],
   "source": [
    "\n",
    "start_date = dt(2014,1,1)\n",
    "end_date = dt(2022,1,1)\n",
    "longitude = str(-8.883) #  Note that MOTU expects string data\n",
    "latitude = str(37.017) #\n",
    "twc_historical_timeseries(start_date, end_date, longitude, latitude)\n",
    "#df_hod = get_twc_history_on_demand(longitude, latitude, start_date, end_date, api_key)\n"
   ]
  }
 ],
 "metadata": {
  "kernelspec": {
   "display_name": "Python 3",
   "language": "python",
   "name": "python3"
  },
  "language_info": {
   "codemirror_mode": {
    "name": "ipython",
    "version": 3
   },
   "file_extension": ".py",
   "mimetype": "text/x-python",
   "name": "python",
   "nbconvert_exporter": "python",
   "pygments_lexer": "ipython3",
   "version": "3.7.12"
  }
 },
 "nbformat": 4,
 "nbformat_minor": 4
}
